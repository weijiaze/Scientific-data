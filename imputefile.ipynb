{
 "cells": [
  {
   "cell_type": "code",
   "execution_count": 1,
   "id": "df814cfc",
   "metadata": {},
   "outputs": [],
   "source": [
    "import miceforest as mf\n",
    "import pandas as pd\n",
    "import numpy as np"
   ]
  },
  {
   "cell_type": "code",
   "execution_count": 7,
   "id": "34c6dd56",
   "metadata": {},
   "outputs": [
    {
     "data": {
      "text/plain": [
       "date_time         0\n",
       "iot_id            0\n",
       "power_switch     11\n",
       "wind_value       11\n",
       "pm25            290\n",
       "hcho            290\n",
       "tvoc            289\n",
       "temperature     289\n",
       "humidity        289\n",
       "dtype: int64"
      ]
     },
     "execution_count": 7,
     "metadata": {},
     "output_type": "execute_result"
    }
   ],
   "source": [
    "df = pd.read_csv(\"D:/Study/352/x86/x86/x86_data/b0f893ba4f1f.csv\")\n",
    "df.head()\n",
    "df.isnull().sum()"
   ]
  },
  {
   "cell_type": "code",
   "execution_count": 3,
   "id": "5bc6991e",
   "metadata": {},
   "outputs": [],
   "source": [
    "power_switch = df[\"power_switch\"]\n",
    "power_switch = power_switch.fillna(method='ffill')\n",
    "power_switch = power_switch.fillna(method='bfill')\n",
    "wind_value = df[\"wind_value\"]\n",
    "wind_value = wind_value.fillna(method='ffill')\n",
    "wind_value = wind_value.fillna(method='bfill')\n",
    "\n",
    "df[\"power_switch\"]=power_switch\n",
    "df[\"wind_value\"]=wind_value"
   ]
  },
  {
   "cell_type": "code",
   "execution_count": 4,
   "id": "4938aac8",
   "metadata": {},
   "outputs": [],
   "source": [
    "time_id= df[['date_time', 'iot_id']]"
   ]
  },
  {
   "cell_type": "code",
   "execution_count": 5,
   "id": "1b9070cc",
   "metadata": {},
   "outputs": [],
   "source": [
    "df=df.drop(columns=[\"date_time\",\"iot_id\"])\n",
    "#df.head()"
   ]
  },
  {
   "cell_type": "code",
   "execution_count": 6,
   "id": "3b02d54b",
   "metadata": {},
   "outputs": [],
   "source": [
    "kds = mf.ImputationKernel(\n",
    "    df,\n",
    "    datasets = 4,\n",
    "    save_all_iterations = True,\n",
    "    save_models = 1,\n",
    "    random_state = 10\n",
    ")"
   ]
  },
  {
   "cell_type": "code",
   "execution_count": 7,
   "id": "da78a704",
   "metadata": {},
   "outputs": [],
   "source": [
    "kds.mice(iterations=3,n_jobs=-1)\n",
    "#kds"
   ]
  },
  {
   "cell_type": "code",
   "execution_count": 8,
   "id": "97fe2273",
   "metadata": {},
   "outputs": [],
   "source": [
    "complete_data = kds.complete_data(0)\n",
    "#complete_data"
   ]
  },
  {
   "cell_type": "code",
   "execution_count": 9,
   "id": "8aebc529",
   "metadata": {},
   "outputs": [],
   "source": [
    "outfile = pd.concat([time_id,complete_data],axis=1)\n",
    "#print(outfile)"
   ]
  },
  {
   "cell_type": "code",
   "execution_count": 10,
   "id": "357635ad",
   "metadata": {},
   "outputs": [],
   "source": [
    "file_out = \"b0f893ba4f1f_file.csv\"\n",
    "outfile.to_csv(\"D:/Study/result/file/\"+file_out, index=False)"
   ]
  },
  {
   "cell_type": "code",
   "execution_count": 13,
   "id": "e31e1e36",
   "metadata": {},
   "outputs": [],
   "source": [
    "import miceforest as mf\n",
    "import numpy as np\n",
    "import pandas as pd\n",
    "import os\n",
    "\n",
    "filepath = \"D:/Study/352/x86/x86/x86_data\"\n",
    "pathDir = os.listdir(filepath)\n",
    "\n",
    "for s in pathDir:\n",
    "    newDir=os.path.join(filepath,s)     #将文件命加入到当前文件路径后面\n",
    "    df = pd.read_csv(newDir)\n",
    "    \n",
    "    \n",
    "    power_switch = df[\"power_switch\"]\n",
    "    power_switch = power_switch.fillna(method='ffill')\n",
    "    power_switch = power_switch.fillna(method='bfill')\n",
    "    wind_value = df[\"wind_value\"]\n",
    "    wind_value = wind_value.fillna(method='ffill')\n",
    "    wind_value = wind_value.fillna(method='bfill')\n",
    "\n",
    "    df[\"power_switch\"]=power_switch\n",
    "    df[\"wind_value\"]=wind_value\n",
    "    \n",
    "    time_id= df[['date_time', 'iot_id']]\n",
    "    df=df.drop(columns=[\"date_time\",\"iot_id\"])\n",
    "    kds = mf.ImputationKernel(\n",
    "        df,\n",
    "        datasets = 4,\n",
    "        save_all_iterations = True,\n",
    "        save_models = 1,\n",
    "        random_state = 10\n",
    "    )\n",
    "    kds.mice(iterations=3,n_jobs=-1)\n",
    "    complete_data = kds.complete_data(0)\n",
    "    outfile = pd.concat([time_id,complete_data],axis=1)\n",
    "    outfile.to_csv(\"D:/Study/352/x86/x86/x86_data_impute/\"+s, index=False)"
   ]
  },
  {
   "cell_type": "code",
   "execution_count": 6,
   "id": "b790e7ad",
   "metadata": {},
   "outputs": [],
   "source": [
    "import miceforest as mf\n",
    "import numpy as np\n",
    "import pandas as pd\n",
    "import os"
   ]
  },
  {
   "cell_type": "code",
   "execution_count": 7,
   "id": "df7ae7f5",
   "metadata": {},
   "outputs": [],
   "source": [
    "filepath = \"D:/Study/352/x86/1063/x86_data\"\n",
    "#pathDir = os.listdir(filepath)\n",
    "df = pd.read_csv(\"D:/Study/352/x86/1063/missing_rate_shai_01.csv\")\n",
    "pathDir = df['csv'].tolist()"
   ]
  },
  {
   "cell_type": "code",
   "execution_count": 9,
   "id": "de32377e",
   "metadata": {},
   "outputs": [],
   "source": [
    "for s in pathDir:\n",
    "    newDir=os.path.join(filepath,s)     #将文件命加入到当前文件路径后面\n",
    "    df = pd.read_csv(newDir)\n",
    "    \n",
    "    \n",
    "    power_switch = df[\"power_switch\"]\n",
    "    power_switch = power_switch.fillna(method='ffill')\n",
    "    power_switch = power_switch.fillna(method='bfill')\n",
    "    wind_value = df[\"wind_value\"]\n",
    "    wind_value = wind_value.fillna(method='ffill')\n",
    "    wind_value = wind_value.fillna(method='bfill')\n",
    "\n",
    "    df[\"power_switch\"]=power_switch\n",
    "    df[\"wind_value\"]=wind_value\n",
    "    \n",
    "    time_id= df[['date_time', 'iot_id']]\n",
    "    df=df.drop(columns=[\"date_time\",\"iot_id\"])\n",
    "    kds = mf.ImputationKernel(\n",
    "        df,\n",
    "        datasets = 4,\n",
    "        save_all_iterations = True,\n",
    "        save_models = 1,\n",
    "        random_state = 10\n",
    "    )\n",
    "    kds.mice(iterations=3,n_jobs=-1)\n",
    "    complete_data = kds.complete_data(0)\n",
    "    outfile = pd.concat([time_id,complete_data],axis=1)\n",
    "    outfile.to_csv(\"D:/Study/352/x86/1063/missing_rate_shai_01/\"+s, index=False)"
   ]
  },
  {
   "cell_type": "code",
   "execution_count": 21,
   "id": "bc8ceab6",
   "metadata": {},
   "outputs": [
    {
     "name": "stdout",
     "output_type": "stream",
     "text": [
      "2\n"
     ]
    }
   ],
   "source": [
    "#将excel列转化为python中的Series,即一维数组，然后统计Series中各数据的频数\n",
    "import pandas as pd\n",
    "data = pd.read_csv(\"D:/Study/352/x86/1063/missing_rate_shai_01/b0f893ba4ba3.csv\") #读取excel表格数据\n",
    "count = data['wind_value'].value_counts()#number为表格列名\n",
    "print(count[700])\n"
   ]
  },
  {
   "cell_type": "code",
   "execution_count": null,
   "id": "38ad241b",
   "metadata": {},
   "outputs": [],
   "source": []
  }
 ],
 "metadata": {
  "kernelspec": {
   "display_name": "Python 3 (ipykernel)",
   "language": "python",
   "name": "python3"
  },
  "language_info": {
   "codemirror_mode": {
    "name": "ipython",
    "version": 3
   },
   "file_extension": ".py",
   "mimetype": "text/x-python",
   "name": "python",
   "nbconvert_exporter": "python",
   "pygments_lexer": "ipython3",
   "version": "3.9.12"
  }
 },
 "nbformat": 4,
 "nbformat_minor": 5
}
