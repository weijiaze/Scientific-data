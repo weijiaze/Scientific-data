{
 "cells": [
  {
   "cell_type": "code",
   "execution_count": 7,
   "id": "b7013739",
   "metadata": {},
   "outputs": [],
   "source": [
    "import numpy as np\n",
    "import pandas as pd\n",
    "import os"
   ]
  },
  {
   "cell_type": "code",
   "execution_count": 8,
   "id": "f0d4d0b0",
   "metadata": {},
   "outputs": [],
   "source": [
    "filepath = \"D:/Study/352/x86/1063/x86_data\"\n",
    "pathDir = os.listdir(filepath)"
   ]
  },
  {
   "cell_type": "code",
   "execution_count": 13,
   "id": "6159d41e",
   "metadata": {},
   "outputs": [],
   "source": [
    "iod = []\n",
    "missing_rate = []"
   ]
  },
  {
   "cell_type": "code",
   "execution_count": 14,
   "id": "d66efb69",
   "metadata": {},
   "outputs": [],
   "source": [
    "for s in pathDir:\n",
    "    newDir=os.path.join(filepath,s)     #将文件命加入到当前文件路径后面\n",
    "    df = pd.read_csv(newDir)\n",
    "    total = sum(1 for line in open(newDir))\n",
    "    if total > 8700:\n",
    "        pm25_null = df[\"pm25\"].isnull().sum()\n",
    "        hcho_null = df[\"hcho\"].isnull().sum()\n",
    "        tvoc_null = df[\"tvoc\"].isnull().sum()\n",
    "        temperature_null = df[\"temperature\"].isnull().sum()\n",
    "        humidity_null = df[\"humidity\"].isnull().sum()\n",
    "        max_null = max(pm25_null,hcho_null,tvoc_null,temperature_null,humidity_null)\n",
    "        len_all = len(df[\"hcho\"])\n",
    "        missing = max_null/len_all\n",
    "        if missing < 0.05:\n",
    "            iod.append(s)\n",
    "            missing_rate.append(missing)"
   ]
  },
  {
   "cell_type": "code",
   "execution_count": 15,
   "id": "c94ef217",
   "metadata": {},
   "outputs": [],
   "source": [
    "iod = pd.DataFrame(iod)\n",
    "missing_rate = pd.DataFrame(missing_rate)"
   ]
  },
  {
   "cell_type": "code",
   "execution_count": 16,
   "id": "061c422b",
   "metadata": {},
   "outputs": [],
   "source": [
    "outfile = pd.concat([iod,missing_rate],axis=1)\n",
    "outfile.columns = ['csv', 'null_per']\n",
    "file_out = \"missing_rate_shai_005.csv\"\n",
    "outfile.to_csv(\"D:/Study/352/x86/1063/\"+file_out, index=False)"
   ]
  },
  {
   "cell_type": "code",
   "execution_count": 34,
   "id": "44d8fa85",
   "metadata": {},
   "outputs": [
    {
     "ename": "TypeError",
     "evalue": "expected str, bytes or os.PathLike object, not DataFrame",
     "output_type": "error",
     "traceback": [
      "\u001b[1;31m---------------------------------------------------------------------------\u001b[0m",
      "\u001b[1;31mTypeError\u001b[0m                                 Traceback (most recent call last)",
      "Input \u001b[1;32mIn [34]\u001b[0m, in \u001b[0;36m<cell line: 3>\u001b[1;34m()\u001b[0m\n\u001b[0;32m      1\u001b[0m \u001b[38;5;66;03m#文件比较小\u001b[39;00m\n\u001b[0;32m      2\u001b[0m df\u001b[38;5;241m=\u001b[39mpd\u001b[38;5;241m.\u001b[39mread_csv(\u001b[38;5;124m\"\u001b[39m\u001b[38;5;124mD:/Study/352/x86/1063/missing_rate_shai_005/b0f893ba4f1f.csv\u001b[39m\u001b[38;5;124m\"\u001b[39m)\n\u001b[1;32m----> 3\u001b[0m count\u001b[38;5;241m=\u001b[39m\u001b[38;5;28mlen\u001b[39m(\u001b[38;5;28;43mopen\u001b[39;49m\u001b[43m(\u001b[49m\u001b[43mdf\u001b[49m\u001b[43m)\u001b[49m\u001b[38;5;241m.\u001b[39mreadlines())\n\u001b[0;32m      4\u001b[0m \u001b[38;5;28mprint\u001b[39m(count)\n",
      "\u001b[1;31mTypeError\u001b[0m: expected str, bytes or os.PathLike object, not DataFrame"
     ]
    }
   ],
   "source": [
    "#文件比较小\n",
    "df=pd.read_csv(\"D:/Study/352/x86/1063/missing_rate_shai_005/b0f893ba4f1f.csv\")\n",
    "count=len(open(df).readlines())\n",
    "print(count)"
   ]
  },
  {
   "cell_type": "code",
   "execution_count": null,
   "id": "534da8ce",
   "metadata": {},
   "outputs": [],
   "source": [
    "filename='E:路径\\\\文件名.csv'\n",
    "total = sum(1 for line in open(filename))\n",
    "print('The total lines is ',total)\n"
   ]
  }
 ],
 "metadata": {
  "kernelspec": {
   "display_name": "Python 3 (ipykernel)",
   "language": "python",
   "name": "python3"
  },
  "language_info": {
   "codemirror_mode": {
    "name": "ipython",
    "version": 3
   },
   "file_extension": ".py",
   "mimetype": "text/x-python",
   "name": "python",
   "nbconvert_exporter": "python",
   "pygments_lexer": "ipython3",
   "version": "3.9.12"
  }
 },
 "nbformat": 4,
 "nbformat_minor": 5
}
